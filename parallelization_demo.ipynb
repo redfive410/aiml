{
  "nbformat": 4,
  "nbformat_minor": 0,
  "metadata": {
    "colab": {
      "name": "parallelization_demo.ipynb",
      "version": "0.3.2",
      "provenance": []
    },
    "kernelspec": {
      "name": "python3",
      "display_name": "Python 3"
    }
  },
  "cells": [
    {
      "cell_type": "code",
      "metadata": {
        "id": "ToXG0X1fipTi",
        "colab_type": "code",
        "outputId": "ca10f368-453a-4695-8f43-224daa296b0f",
        "colab": {
          "base_uri": "https://localhost:8080/",
          "height": 36
        }
      },
      "source": [
        "import math\n",
        "loops = 25000000\n",
        "a = range(1, loops)\n",
        "def f(x):\n",
        "  return 3 * math.log(x) + math.cos(x) ** 2\n",
        "%timeit r = [f(x) for x in a]"
      ],
      "execution_count": 1,
      "outputs": [
        {
          "output_type": "stream",
          "text": [
            "1 loop, best of 3: 13.2 s per loop\n"
          ],
          "name": "stdout"
        }
      ]
    },
    {
      "cell_type": "code",
      "metadata": {
        "id": "TLhLYX8wiusL",
        "colab_type": "code",
        "outputId": "4b4a4d62-7425-41f8-c46e-19bbc872fdb8",
        "colab": {
          "base_uri": "https://localhost:8080/",
          "height": 36
        }
      },
      "source": [
        "import numpy as np\n",
        "a = np.arange(1, loops)\n",
        "%timeit r = 3 * np.log(a) + np.cos(a) ** 2"
      ],
      "execution_count": 2,
      "outputs": [
        {
          "output_type": "stream",
          "text": [
            "1 loop, best of 3: 1.31 s per loop\n"
          ],
          "name": "stdout"
        }
      ]
    },
    {
      "cell_type": "code",
      "metadata": {
        "id": "mjnN65to6aia",
        "colab_type": "code",
        "outputId": "b1a3f93a-4e94-4ecf-a129-58291ed585d7",
        "colab": {
          "base_uri": "https://localhost:8080/",
          "height": 36
        }
      },
      "source": [
        "import numexpr as ne\n",
        "ne.set_num_threads(4)\n",
        "f = '3 * log(a) + cos(a) ** 2'\n",
        "%timeit r = ne.evaluate(f)"
      ],
      "execution_count": 3,
      "outputs": [
        {
          "output_type": "stream",
          "text": [
            "1 loop, best of 3: 895 ms per loop\n"
          ],
          "name": "stdout"
        }
      ]
    },
    {
      "cell_type": "code",
      "metadata": {
        "id": "vklfJjCO7M3c",
        "colab_type": "code",
        "colab": {}
      },
      "source": [
        ""
      ],
      "execution_count": 0,
      "outputs": []
    }
  ]
}