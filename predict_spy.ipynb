{
  "nbformat": 4,
  "nbformat_minor": 0,
  "metadata": {
    "colab": {
      "name": "predict_spy.ipynb",
      "version": "0.3.2",
      "provenance": [],
      "collapsed_sections": []
    },
    "kernelspec": {
      "name": "python3",
      "display_name": "Python 3"
    }
  },
  "cells": [
    {
      "cell_type": "code",
      "metadata": {
        "id": "RZ00ZGomDAjE",
        "colab_type": "code",
        "colab": {
          "base_uri": "https://localhost:8080/",
          "height": 238
        },
        "outputId": "9491e88d-a2e6-444c-c19d-2d12854e28df"
      },
      "source": [
        "import pandas as pd\n",
        "import datetime\n",
        "import pandas_datareader.data as web\n",
        "from pandas import Series, DataFrame\n",
        "\n",
        "start = datetime.datetime(2008, 1, 1)\n",
        "end = datetime.datetime(2019, 6, 17)\n",
        "\n",
        "df = web.DataReader(\"SPY\", 'yahoo', start, end)\n",
        "df.tail()"
      ],
      "execution_count": 47,
      "outputs": [
        {
          "output_type": "execute_result",
          "data": {
            "text/html": [
              "<div>\n",
              "<style scoped>\n",
              "    .dataframe tbody tr th:only-of-type {\n",
              "        vertical-align: middle;\n",
              "    }\n",
              "\n",
              "    .dataframe tbody tr th {\n",
              "        vertical-align: top;\n",
              "    }\n",
              "\n",
              "    .dataframe thead th {\n",
              "        text-align: right;\n",
              "    }\n",
              "</style>\n",
              "<table border=\"1\" class=\"dataframe\">\n",
              "  <thead>\n",
              "    <tr style=\"text-align: right;\">\n",
              "      <th></th>\n",
              "      <th>High</th>\n",
              "      <th>Low</th>\n",
              "      <th>Open</th>\n",
              "      <th>Close</th>\n",
              "      <th>Volume</th>\n",
              "      <th>Adj Close</th>\n",
              "    </tr>\n",
              "    <tr>\n",
              "      <th>Date</th>\n",
              "      <th></th>\n",
              "      <th></th>\n",
              "      <th></th>\n",
              "      <th></th>\n",
              "      <th></th>\n",
              "      <th></th>\n",
              "    </tr>\n",
              "  </thead>\n",
              "  <tbody>\n",
              "    <tr>\n",
              "      <th>2019-06-11</th>\n",
              "      <td>291.399994</td>\n",
              "      <td>288.179993</td>\n",
              "      <td>290.989990</td>\n",
              "      <td>288.899994</td>\n",
              "      <td>58641300.0</td>\n",
              "      <td>288.899994</td>\n",
              "    </tr>\n",
              "    <tr>\n",
              "      <th>2019-06-12</th>\n",
              "      <td>289.260010</td>\n",
              "      <td>287.820007</td>\n",
              "      <td>288.640015</td>\n",
              "      <td>288.390015</td>\n",
              "      <td>47096300.0</td>\n",
              "      <td>288.390015</td>\n",
              "    </tr>\n",
              "    <tr>\n",
              "      <th>2019-06-13</th>\n",
              "      <td>289.980011</td>\n",
              "      <td>288.619995</td>\n",
              "      <td>289.399994</td>\n",
              "      <td>289.579987</td>\n",
              "      <td>48945200.0</td>\n",
              "      <td>289.579987</td>\n",
              "    </tr>\n",
              "    <tr>\n",
              "      <th>2019-06-14</th>\n",
              "      <td>289.929993</td>\n",
              "      <td>288.410004</td>\n",
              "      <td>289.260010</td>\n",
              "      <td>289.260010</td>\n",
              "      <td>52314300.0</td>\n",
              "      <td>289.260010</td>\n",
              "    </tr>\n",
              "    <tr>\n",
              "      <th>2019-06-17</th>\n",
              "      <td>290.220001</td>\n",
              "      <td>289.179993</td>\n",
              "      <td>289.519989</td>\n",
              "      <td>289.369995</td>\n",
              "      <td>36107639.0</td>\n",
              "      <td>289.369995</td>\n",
              "    </tr>\n",
              "  </tbody>\n",
              "</table>\n",
              "</div>"
            ],
            "text/plain": [
              "                  High         Low  ...      Volume   Adj Close\n",
              "Date                                ...                        \n",
              "2019-06-11  291.399994  288.179993  ...  58641300.0  288.899994\n",
              "2019-06-12  289.260010  287.820007  ...  47096300.0  288.390015\n",
              "2019-06-13  289.980011  288.619995  ...  48945200.0  289.579987\n",
              "2019-06-14  289.929993  288.410004  ...  52314300.0  289.260010\n",
              "2019-06-17  290.220001  289.179993  ...  36107639.0  289.369995\n",
              "\n",
              "[5 rows x 6 columns]"
            ]
          },
          "metadata": {
            "tags": []
          },
          "execution_count": 47
        }
      ]
    },
    {
      "cell_type": "code",
      "metadata": {
        "id": "mUgqpQcFGR-t",
        "colab_type": "code",
        "colab": {
          "base_uri": "https://localhost:8080/",
          "height": 243
        },
        "outputId": "3eb1af7d-a437-408d-810a-bca1c31fd228"
      },
      "source": [
        "close_px = df['Adj Close']\n",
        "mavg = close_px.rolling(window=100).mean()\n",
        "mavg.tail(10)"
      ],
      "execution_count": 48,
      "outputs": [
        {
          "output_type": "execute_result",
          "data": {
            "text/plain": [
              "Date\n",
              "2019-06-04    279.207524\n",
              "2019-06-05    279.459677\n",
              "2019-06-06    279.729234\n",
              "2019-06-07    280.043022\n",
              "2019-06-10    280.340640\n",
              "2019-06-11    280.631285\n",
              "2019-06-12    280.897117\n",
              "2019-06-13    281.140002\n",
              "2019-06-14    281.415530\n",
              "2019-06-17    281.686682\n",
              "Name: Adj Close, dtype: float64"
            ]
          },
          "metadata": {
            "tags": []
          },
          "execution_count": 48
        }
      ]
    },
    {
      "cell_type": "code",
      "metadata": {
        "id": "xCaPqRDuGnCF",
        "colab_type": "code",
        "colab": {
          "base_uri": "https://localhost:8080/",
          "height": 441
        },
        "outputId": "f8ad5f9d-5222-4df5-9150-d3681e095652"
      },
      "source": [
        "%matplotlib inline\n",
        "import matplotlib.pyplot as plt\n",
        "from matplotlib import style\n",
        "\n",
        "# Adjusting the size of matplotlib\n",
        "import matplotlib as mpl\n",
        "mpl.rc('figure', figsize=(8, 7))\n",
        "mpl.__version__\n",
        "\n",
        "# Adjusting the style of matplotlib\n",
        "style.use('ggplot')\n",
        "\n",
        "close_px.plot(label='SPY')\n",
        "mavg.plot(label='mavg')\n",
        "plt.legend()"
      ],
      "execution_count": 49,
      "outputs": [
        {
          "output_type": "execute_result",
          "data": {
            "text/plain": [
              "<matplotlib.legend.Legend at 0x7fed8fdd4160>"
            ]
          },
          "metadata": {
            "tags": []
          },
          "execution_count": 49
        },
        {
          "output_type": "display_data",
          "data": {
            "image/png": "[encoded data removed]",
            "text/plain": [
              "<Figure size 576x504 with 1 Axes>"
            ]
          },
          "metadata": {
            "tags": []
          }
        }
      ]
    },
    {
      "cell_type": "code",
      "metadata": {
        "id": "Z88t0ko1SJ-I",
        "colab_type": "code",
        "colab": {
          "base_uri": "https://localhost:8080/",
          "height": 149
        },
        "outputId": "7e9c16f0-eed4-4f43-8096-59776ee3cf26"
      },
      "source": [
        "rets = close_px / close_px.shift(1) - 1\n",
        "rets.head()"
      ],
      "execution_count": 50,
      "outputs": [
        {
          "output_type": "execute_result",
          "data": {
            "text/plain": [
              "Date\n",
              "2008-01-02         NaN\n",
              "2008-01-03   -0.000483\n",
              "2008-01-04   -0.024506\n",
              "2008-01-07   -0.000849\n",
              "2008-01-08   -0.016149\n",
              "Name: Adj Close, dtype: float64"
            ]
          },
          "metadata": {
            "tags": []
          },
          "execution_count": 50
        }
      ]
    },
    {
      "cell_type": "code",
      "metadata": {
        "id": "zP1Qp8NroRXv",
        "colab_type": "code",
        "colab": {
          "base_uri": "https://localhost:8080/",
          "height": 441
        },
        "outputId": "3ef958f7-d2c5-4517-8c04-8cdb54f65b16"
      },
      "source": [
        "rets.plot(label='return')"
      ],
      "execution_count": 51,
      "outputs": [
        {
          "output_type": "execute_result",
          "data": {
            "text/plain": [
              "<matplotlib.axes._subplots.AxesSubplot at 0x7fed7e83f4e0>"
            ]
          },
          "metadata": {
            "tags": []
          },
          "execution_count": 51
        },
        {
          "output_type": "display_data",
          "data": {
            "image/png": "[encoded data removed]",
            "text/plain": [
              "<Figure size 576x504 with 1 Axes>"
            ]
          },
          "metadata": {
            "tags": []
          }
        }
      ]
    },
    {
      "cell_type": "code",
      "metadata": {
        "id": "nT8HHt6rrp9E",
        "colab_type": "code",
        "colab": {
          "base_uri": "https://localhost:8080/",
          "height": 238
        },
        "outputId": "d564a774-1d3c-48f9-d6cd-8fca5d47e1ce"
      },
      "source": [
        "df.head()"
      ],
      "execution_count": 52,
      "outputs": [
        {
          "output_type": "execute_result",
          "data": {
            "text/html": [
              "<div>\n",
              "<style scoped>\n",
              "    .dataframe tbody tr th:only-of-type {\n",
              "        vertical-align: middle;\n",
              "    }\n",
              "\n",
              "    .dataframe tbody tr th {\n",
              "        vertical-align: top;\n",
              "    }\n",
              "\n",
              "    .dataframe thead th {\n",
              "        text-align: right;\n",
              "    }\n",
              "</style>\n",
              "<table border=\"1\" class=\"dataframe\">\n",
              "  <thead>\n",
              "    <tr style=\"text-align: right;\">\n",
              "      <th></th>\n",
              "      <th>High</th>\n",
              "      <th>Low</th>\n",
              "      <th>Open</th>\n",
              "      <th>Close</th>\n",
              "      <th>Volume</th>\n",
              "      <th>Adj Close</th>\n",
              "    </tr>\n",
              "    <tr>\n",
              "      <th>Date</th>\n",
              "      <th></th>\n",
              "      <th></th>\n",
              "      <th></th>\n",
              "      <th></th>\n",
              "      <th></th>\n",
              "      <th></th>\n",
              "    </tr>\n",
              "  </thead>\n",
              "  <tbody>\n",
              "    <tr>\n",
              "      <th>2008-01-02</th>\n",
              "      <td>146.990005</td>\n",
              "      <td>143.880005</td>\n",
              "      <td>146.529999</td>\n",
              "      <td>144.929993</td>\n",
              "      <td>204935600.0</td>\n",
              "      <td>114.888565</td>\n",
              "    </tr>\n",
              "    <tr>\n",
              "      <th>2008-01-03</th>\n",
              "      <td>145.490005</td>\n",
              "      <td>144.070007</td>\n",
              "      <td>144.910004</td>\n",
              "      <td>144.860001</td>\n",
              "      <td>125133300.0</td>\n",
              "      <td>114.833084</td>\n",
              "    </tr>\n",
              "    <tr>\n",
              "      <th>2008-01-04</th>\n",
              "      <td>143.440002</td>\n",
              "      <td>140.910004</td>\n",
              "      <td>143.339996</td>\n",
              "      <td>141.309998</td>\n",
              "      <td>232330900.0</td>\n",
              "      <td>112.018936</td>\n",
              "    </tr>\n",
              "    <tr>\n",
              "      <th>2008-01-07</th>\n",
              "      <td>142.229996</td>\n",
              "      <td>140.100006</td>\n",
              "      <td>141.809998</td>\n",
              "      <td>141.190002</td>\n",
              "      <td>234991000.0</td>\n",
              "      <td>111.923813</td>\n",
              "    </tr>\n",
              "    <tr>\n",
              "      <th>2008-01-08</th>\n",
              "      <td>142.899994</td>\n",
              "      <td>138.440002</td>\n",
              "      <td>142.080002</td>\n",
              "      <td>138.910004</td>\n",
              "      <td>326365700.0</td>\n",
              "      <td>110.116409</td>\n",
              "    </tr>\n",
              "  </tbody>\n",
              "</table>\n",
              "</div>"
            ],
            "text/plain": [
              "                  High         Low  ...       Volume   Adj Close\n",
              "Date                                ...                         \n",
              "2008-01-02  146.990005  143.880005  ...  204935600.0  114.888565\n",
              "2008-01-03  145.490005  144.070007  ...  125133300.0  114.833084\n",
              "2008-01-04  143.440002  140.910004  ...  232330900.0  112.018936\n",
              "2008-01-07  142.229996  140.100006  ...  234991000.0  111.923813\n",
              "2008-01-08  142.899994  138.440002  ...  326365700.0  110.116409\n",
              "\n",
              "[5 rows x 6 columns]"
            ]
          },
          "metadata": {
            "tags": []
          },
          "execution_count": 52
        }
      ]
    },
    {
      "cell_type": "code",
      "metadata": {
        "id": "RDNxaEUBtsry",
        "colab_type": "code",
        "colab": {
          "base_uri": "https://localhost:8080/",
          "height": 238
        },
        "outputId": "59e338e7-3fc9-4c00-e8ce-6393f9cb2f29"
      },
      "source": [
        "dfreg = df.loc[:,['Adj Close','Volume']]\n",
        "dfreg['HL_PCT'] = (df['High'] - df['Low']) / df['Close'] * 100.0\n",
        "dfreg['PCT_change'] = (df['Close'] - df['Open']) / df['Open'] * 100.0\n",
        "dfreg.head()"
      ],
      "execution_count": 53,
      "outputs": [
        {
          "output_type": "execute_result",
          "data": {
            "text/html": [
              "<div>\n",
              "<style scoped>\n",
              "    .dataframe tbody tr th:only-of-type {\n",
              "        vertical-align: middle;\n",
              "    }\n",
              "\n",
              "    .dataframe tbody tr th {\n",
              "        vertical-align: top;\n",
              "    }\n",
              "\n",
              "    .dataframe thead th {\n",
              "        text-align: right;\n",
              "    }\n",
              "</style>\n",
              "<table border=\"1\" class=\"dataframe\">\n",
              "  <thead>\n",
              "    <tr style=\"text-align: right;\">\n",
              "      <th></th>\n",
              "      <th>Adj Close</th>\n",
              "      <th>Volume</th>\n",
              "      <th>HL_PCT</th>\n",
              "      <th>PCT_change</th>\n",
              "    </tr>\n",
              "    <tr>\n",
              "      <th>Date</th>\n",
              "      <th></th>\n",
              "      <th></th>\n",
              "      <th></th>\n",
              "      <th></th>\n",
              "    </tr>\n",
              "  </thead>\n",
              "  <tbody>\n",
              "    <tr>\n",
              "      <th>2008-01-02</th>\n",
              "      <td>114.888565</td>\n",
              "      <td>204935600.0</td>\n",
              "      <td>2.145864</td>\n",
              "      <td>-1.091931</td>\n",
              "    </tr>\n",
              "    <tr>\n",
              "      <th>2008-01-03</th>\n",
              "      <td>114.833084</td>\n",
              "      <td>125133300.0</td>\n",
              "      <td>0.980256</td>\n",
              "      <td>-0.034506</td>\n",
              "    </tr>\n",
              "    <tr>\n",
              "      <th>2008-01-04</th>\n",
              "      <td>112.018936</td>\n",
              "      <td>232330900.0</td>\n",
              "      <td>1.790389</td>\n",
              "      <td>-1.416212</td>\n",
              "    </tr>\n",
              "    <tr>\n",
              "      <th>2008-01-07</th>\n",
              "      <td>111.923813</td>\n",
              "      <td>234991000.0</td>\n",
              "      <td>1.508598</td>\n",
              "      <td>-0.437201</td>\n",
              "    </tr>\n",
              "    <tr>\n",
              "      <th>2008-01-08</th>\n",
              "      <td>110.116409</td>\n",
              "      <td>326365700.0</td>\n",
              "      <td>3.210706</td>\n",
              "      <td>-2.231136</td>\n",
              "    </tr>\n",
              "  </tbody>\n",
              "</table>\n",
              "</div>"
            ],
            "text/plain": [
              "             Adj Close       Volume    HL_PCT  PCT_change\n",
              "Date                                                     \n",
              "2008-01-02  114.888565  204935600.0  2.145864   -1.091931\n",
              "2008-01-03  114.833084  125133300.0  0.980256   -0.034506\n",
              "2008-01-04  112.018936  232330900.0  1.790389   -1.416212\n",
              "2008-01-07  111.923813  234991000.0  1.508598   -0.437201\n",
              "2008-01-08  110.116409  326365700.0  3.210706   -2.231136"
            ]
          },
          "metadata": {
            "tags": []
          },
          "execution_count": 53
        }
      ]
    },
    {
      "cell_type": "code",
      "metadata": {
        "id": "7pNxX8cqt8W7",
        "colab_type": "code",
        "colab": {
          "base_uri": "https://localhost:8080/",
          "height": 131
        },
        "outputId": "c1f2b43b-abb3-45cb-8b44-c0bb4dfc06c0"
      },
      "source": [
        "import math\n",
        "import numpy as np\n",
        "from sklearn import preprocessing, svm\n",
        "from sklearn.model_selection import train_test_split\n",
        "\n",
        "\n",
        "# Drop missing value\n",
        "dfreg.fillna(value=-99999, inplace=True)\n",
        "\n",
        "print(dfreg.shape)\n",
        "# We want to separate 1 percent of the data to forecast\n",
        "forecast_out = int(math.ceil(0.01 * len(dfreg)))\n",
        "\n",
        "# Separating the label here, we want to predict the AdjClose\n",
        "forecast_col = 'Adj Close'\n",
        "dfreg['label'] = dfreg[forecast_col].shift(-forecast_out)\n",
        "X = np.array(dfreg.drop(['label'], 1))\n",
        "\n",
        "# Scale the X so that everyone can have the same distribution for linear regression\n",
        "X = preprocessing.scale(X)\n",
        "\n",
        "# Finally We want to find Data Series of late X and early X (train) for model generation and evaluation\n",
        "X_lately = X[-forecast_out:]\n",
        "X = X[:-forecast_out]\n",
        "\n",
        "# Separate label and identify it as y\n",
        "y = np.array(dfreg['label'])\n",
        "y = y[:-forecast_out]\n",
        "\n",
        "print('Dimension of X',X.shape)\n",
        "print('Dimension of y',y.shape)"
      ],
      "execution_count": 54,
      "outputs": [
        {
          "output_type": "stream",
          "text": [
            "(2884, 4)\n",
            "Dimension of X (2855, 4)\n",
            "Dimension of y (2855,)\n"
          ],
          "name": "stdout"
        },
        {
          "output_type": "stream",
          "text": [
            "/usr/local/lib/python3.6/dist-packages/sklearn/preprocessing/data.py:172: UserWarning: Numerical issues were encountered when centering the data and might not be solved. Dataset may contain too large values. You may need to prescale your features.\n",
            "  warnings.warn(\"Numerical issues were encountered \"\n"
          ],
          "name": "stderr"
        }
      ]
    },
    {
      "cell_type": "code",
      "metadata": {
        "id": "L41OvRp2uKy8",
        "colab_type": "code",
        "colab": {}
      },
      "source": [
        "X_train, X_test, y_train, y_test = train_test_split(X, y, test_size=0.2)"
      ],
      "execution_count": 0,
      "outputs": []
    },
    {
      "cell_type": "code",
      "metadata": {
        "id": "ykXJ9akXwuU6",
        "colab_type": "code",
        "colab": {
          "base_uri": "https://localhost:8080/",
          "height": 74
        },
        "outputId": "707a81fc-cec2-4586-d318-397b80334183"
      },
      "source": [
        "from sklearn.linear_model import LinearRegression\n",
        "from sklearn.neighbors import KNeighborsRegressor\n",
        "\n",
        "from sklearn.linear_model import Ridge\n",
        "from sklearn.preprocessing import PolynomialFeatures\n",
        "from sklearn.pipeline import make_pipeline\n",
        "\n",
        "# Linear regression\n",
        "clfreg = LinearRegression(n_jobs=-1)\n",
        "clfreg.fit(X_train, y_train)\n",
        "\n",
        "\n",
        "# Quadratic Regression 2\n",
        "clfpoly2 = make_pipeline(PolynomialFeatures(2), Ridge())\n",
        "clfpoly2.fit(X_train, y_train)\n",
        "\n",
        "# Quadratic Regression 3\n",
        "clfpoly3 = make_pipeline(PolynomialFeatures(3), Ridge())\n",
        "clfpoly3.fit(X_train, y_train)\n",
        "    \n",
        "# KNN Regression\n",
        "clfknn = KNeighborsRegressor(n_neighbors=2)\n",
        "clfknn.fit(X_train, y_train)"
      ],
      "execution_count": 56,
      "outputs": [
        {
          "output_type": "execute_result",
          "data": {
            "text/plain": [
              "KNeighborsRegressor(algorithm='auto', leaf_size=30, metric='minkowski',\n",
              "                    metric_params=None, n_jobs=None, n_neighbors=2, p=2,\n",
              "                    weights='uniform')"
            ]
          },
          "metadata": {
            "tags": []
          },
          "execution_count": 56
        }
      ]
    },
    {
      "cell_type": "code",
      "metadata": {
        "id": "DzC43zjpxALL",
        "colab_type": "code",
        "colab": {
          "base_uri": "https://localhost:8080/",
          "height": 92
        },
        "outputId": "0e12fbd6-06f7-420b-d4a8-ec800bacd3f4"
      },
      "source": [
        "confidencereg = clfreg.score(X_test, y_test)\n",
        "confidencepoly2 = clfpoly2.score(X_test,y_test)\n",
        "confidencepoly3 = clfpoly3.score(X_test,y_test)\n",
        "confidenceknn = clfknn.score(X_test, y_test)\n",
        "\n",
        "print(\"The linear regression confidence is \",confidencereg)\n",
        "print(\"The quadratic regression 2 confidence is \",confidencepoly2)\n",
        "print(\"The quadratic regression 3 confidence is \",confidencepoly3)\n",
        "print(\"The knn regression confidence is \",confidenceknn)"
      ],
      "execution_count": 57,
      "outputs": [
        {
          "output_type": "stream",
          "text": [
            "The linear regression confidence is  0.9864901722707896\n",
            "The quadratic regression 2 confidence is  0.9865016533526142\n",
            "The quadratic regression 3 confidence is  0.9845703934739348\n",
            "The knn regression confidence is  0.9792157571572057\n"
          ],
          "name": "stdout"
        }
      ]
    },
    {
      "cell_type": "code",
      "metadata": {
        "id": "7gql8xvBxFCC",
        "colab_type": "code",
        "colab": {
          "base_uri": "https://localhost:8080/",
          "height": 130
        },
        "outputId": "198bd841-4cc8-4171-9a7d-61cf1f2b8888"
      },
      "source": [
        "# Printing the forecast\n",
        "forecast_set = clfreg.predict(X_lately)\n",
        "dfreg['Forecast'] = np.nan\n",
        "print(forecast_set, confidencereg, forecast_out)"
      ],
      "execution_count": 58,
      "outputs": [
        {
          "output_type": "stream",
          "text": [
            "[290.35952511 289.97657413 288.94286518 290.36487661 283.25463961\n",
            " 285.83938414 287.36492648 290.11255579 288.19373099 286.6523203\n",
            " 289.15903247 288.32693607 284.64203239 285.59032082 283.19403904\n",
            " 280.67300077 281.68197022 277.79548556 277.10403894 282.7793509\n",
            " 285.49706675 287.27389739 290.07603902 291.67191246 291.89156923\n",
            " 291.15073017 292.27453188 291.95753076 292.18364268] 0.9864901722707896 29\n"
          ],
          "name": "stdout"
        }
      ]
    },
    {
      "cell_type": "code",
      "metadata": {
        "id": "xh4hxjJ_xKWk",
        "colab_type": "code",
        "colab": {}
      },
      "source": [
        "last_date = dfreg.iloc[-1].name\n",
        "last_unix = last_date\n",
        "next_unix = last_unix + datetime.timedelta(days=1)\n",
        "\n",
        "for i in forecast_set:\n",
        "    next_date = next_unix\n",
        "    next_unix += datetime.timedelta(days=1)\n",
        "    dfreg.loc[next_date] = [np.nan for _ in range(len(dfreg.columns)-1)]+[i]"
      ],
      "execution_count": 0,
      "outputs": []
    },
    {
      "cell_type": "code",
      "metadata": {
        "id": "mqSECO2pxwa3",
        "colab_type": "code",
        "colab": {
          "base_uri": "https://localhost:8080/",
          "height": 431
        },
        "outputId": "69253c34-7b5a-450c-8622-3add60174045"
      },
      "source": [
        "dfreg['Adj Close'].tail(500).plot()\n",
        "dfreg['Forecast'].tail(500).plot()\n",
        "plt.legend(loc=4)\n",
        "plt.xlabel('Date')\n",
        "plt.ylabel('SPY Price')\n",
        "plt.show()\n"
      ],
      "execution_count": 60,
      "outputs": [
        {
          "output_type": "display_data",
          "data": {
            "image/png": "[encoded data removed]",
            "text/plain": [
              "<Figure size 576x504 with 1 Axes>"
            ]
          },
          "metadata": {
            "tags": []
          }
        }
      ]
    },
    {
      "cell_type": "code",
      "metadata": {
        "id": "d4hGc8sjxzw4",
        "colab_type": "code",
        "colab": {}
      },
      "source": [
        ""
      ],
      "execution_count": 0,
      "outputs": []
    },
    {
      "cell_type": "markdown",
      "metadata": {
        "id": "YqPnrguJRV1_",
        "colab_type": "text"
      },
      "source": [
        "[https://towardsdatascience.com/in-12-minutes-stocks-analysis-with-pandas-and-scikit-learn-a8d8a7b50ee7](https://towardsdatascience.com/in-12-minutes-stocks-analysis-with-pandas-and-scikit-learn-a8d8a7b50ee7)\n",
        "\n",
        "Bought a 280 Put 7/19 expiration $224 June 17, 2019"
      ]
    }
  ]
}